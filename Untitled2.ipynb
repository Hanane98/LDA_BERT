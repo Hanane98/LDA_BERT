{
  "nbformat": 4,
  "nbformat_minor": 0,
  "metadata": {
    "colab": {
      "name": "Untitled2.ipynb",
      "provenance": [],
      "authorship_tag": "ABX9TyMNa9MElO/LLtqkTMvWk/YH",
      "include_colab_link": true
    },
    "kernelspec": {
      "name": "python3",
      "display_name": "Python 3"
    },
    "language_info": {
      "name": "python"
    }
  },
  "cells": [
    {
      "cell_type": "markdown",
      "metadata": {
        "id": "view-in-github",
        "colab_type": "text"
      },
      "source": [
        "<a href=\"https://colab.research.google.com/github/Hanane98/LDA_BERT/blob/main/Untitled2.ipynb\" target=\"_parent\"><img src=\"https://colab.research.google.com/assets/colab-badge.svg\" alt=\"Open In Colab\"/></a>"
      ]
    },
    {
      "cell_type": "markdown",
      "metadata": {
        "id": "d5GrO0i8Qmia"
      },
      "source": [
        "Download and prepare the data"
      ]
    },
    {
      "cell_type": "code",
      "metadata": {
        "id": "kY7_okqmQjsg"
      },
      "source": [
        "from sklearn.datasets import fetch_20newsgroups\n",
        "newsgroups_train = fetch_20newsgroups(subset='train', shuffle = True)\n",
        "newsgroups_test = fetch_20newsgroups(subset='test', shuffle = True)"
      ],
      "execution_count": null,
      "outputs": []
    },
    {
      "cell_type": "markdown",
      "metadata": {
        "id": "JupN3XjIQrh3"
      },
      "source": [
        "Get news already grouped into key topics"
      ]
    },
    {
      "cell_type": "code",
      "metadata": {
        "id": "IhcH01XxQu4A"
      },
      "source": [
        "list(newsgroups_train.target_names)"
      ],
      "execution_count": null,
      "outputs": []
    },
    {
      "cell_type": "code",
      "metadata": {
        "id": "pT9R0YXiQ8o2"
      },
      "source": [
        "# to get first and last element of list \n",
        "res = [ newsgroups_train.data[0], newsgroups_train.data[-1] ]  \n",
        "  \n",
        "# printing result \n",
        "print (\"The first and last element of list are : \" +  str(res))"
      ],
      "execution_count": null,
      "outputs": []
    },
    {
      "cell_type": "markdown",
      "metadata": {
        "id": "eWosBpWNQ504"
      },
      "source": [
        "Installation"
      ]
    },
    {
      "cell_type": "code",
      "metadata": {
        "id": "_AcmsHGbRBCw"
      },
      "source": [
        "!pip install torch==1.5.1+cu101 torchvision==0.6.1+cu101 -f https://download.pytorch.org/whl/torch_stable.html\n",
        "import pandas as pd\n",
        "!pip install gensim\n",
        "import gensim\n",
        "from gensim.utils import simple_preprocess\n",
        "from gensim.parsing.preprocessing import STOPWORDS\n",
        "from nltk.stem import WordNetLemmatizer, SnowballStemmer\n",
        "from nltk.stem.porter import *\n",
        "import numpy as np\n",
        "np.random.seed(400)\n",
        "import nltk\n",
        "nltk.download('wordnet')\n",
        "nltk.download('stopwords')"
      ],
      "execution_count": null,
      "outputs": []
    },
    {
      "cell_type": "code",
      "metadata": {
        "id": "6eDXI-4fRWk0"
      },
      "source": [
        "!pip install bert-embedding\n",
        "from bert_embedding import BertEmbedding\n",
        "!pip install bert_base\n",
        "!pip install transformers"
      ],
      "execution_count": null,
      "outputs": []
    }
  ]
}