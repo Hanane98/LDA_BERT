{
  "nbformat": 4,
  "nbformat_minor": 0,
  "metadata": {
    "colab": {
      "name": "Test_LDA",
      "provenance": [],
      "authorship_tag": "ABX9TyMYH10sxce0ojd/3wRYRIjV",
      "include_colab_link": true
    },
    "kernelspec": {
      "name": "python3",
      "display_name": "Python 3"
    },
    "language_info": {
      "name": "python"
    }
  },
  "cells": [
    {
      "cell_type": "markdown",
      "metadata": {
        "id": "view-in-github",
        "colab_type": "text"
      },
      "source": [
        "<a href=\"https://colab.research.google.com/github/Hanane98/LDA_BERT/blob/main/Test_LDA.ipynb\" target=\"_parent\"><img src=\"https://colab.research.google.com/assets/colab-badge.svg\" alt=\"Open In Colab\"/></a>"
      ]
    },
    {
      "cell_type": "markdown",
      "metadata": {
        "id": "EY5DrZlQXo26"
      },
      "source": [
        "Model test on test documents 0f 20newsgroup"
      ]
    },
    {
      "cell_type": "code",
      "metadata": {
        "id": "Y-v-ipx0Xjyk"
      },
      "source": [
        "num = 100\n",
        "unseen_document = newsgroups_test.data[num]\n",
        "print(unseen_document)"
      ],
      "execution_count": null,
      "outputs": []
    },
    {
      "cell_type": "markdown",
      "metadata": {
        "id": "VBJW-JwOXr0w"
      },
      "source": [
        ""
      ]
    },
    {
      "cell_type": "code",
      "metadata": {
        "id": "MKnYkJzTXu14"
      },
      "source": [
        "bow_vector = Mydictionary.doc2bow(preprocess(unseen_document))\n",
        "\n",
        "for index, score in sorted(lda_model[bow_vector], key=lambda tup: -1*tup[1]):  \n",
        "    print(\"Score: {}\\t Topic: {}\".format(score, lda_model.print_topic(index, 15)))"
      ],
      "execution_count": null,
      "outputs": []
    }
  ]
}