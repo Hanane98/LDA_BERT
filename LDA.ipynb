{
  "nbformat": 4,
  "nbformat_minor": 0,
  "metadata": {
    "colab": {
      "name": "LDA",
      "provenance": [],
      "authorship_tag": "ABX9TyOhBEjsz+hEjcpF9y+zDGEu",
      "include_colab_link": true
    },
    "kernelspec": {
      "name": "python3",
      "display_name": "Python 3"
    },
    "language_info": {
      "name": "python"
    }
  },
  "cells": [
    {
      "cell_type": "markdown",
      "metadata": {
        "id": "view-in-github",
        "colab_type": "text"
      },
      "source": [
        "<a href=\"https://colab.research.google.com/github/Hanane98/LDA_BERT/blob/main/LDA.ipynb\" target=\"_parent\"><img src=\"https://colab.research.google.com/assets/colab-badge.svg\" alt=\"Open In Colab\"/></a>"
      ]
    },
    {
      "cell_type": "markdown",
      "metadata": {
        "id": "FfLbVs4vW-si"
      },
      "source": [
        "Bag of words dictionnary"
      ]
    },
    {
      "cell_type": "code",
      "metadata": {
        "id": "EcQV2D6hW33D"
      },
      "source": [
        "Mydictionary = gensim.corpora.Dictionary(processed_docs)\n",
        "#Mydictionary = gensim.corpora.Dictionary(ngrams_list)"
      ],
      "execution_count": null,
      "outputs": []
    },
    {
      "cell_type": "markdown",
      "metadata": {
        "id": "MGomchzPXCsS"
      },
      "source": [
        "Convert into bag of words"
      ]
    },
    {
      "cell_type": "code",
      "metadata": {
        "id": "CiKgKWxoXFFd"
      },
      "source": [
        "bow_doc = [ Mydictionary.doc2bow(doc) for doc in processed_docs]\n",
        "#bow_doc = [ Mydictionary.doc2bow(doc) for doc in ngrams_list]"
      ],
      "execution_count": null,
      "outputs": []
    },
    {
      "cell_type": "markdown",
      "metadata": {
        "id": "X9xFPvthXHVw"
      },
      "source": [
        "Run LDA using BOW"
      ]
    },
    {
      "cell_type": "code",
      "metadata": {
        "id": "AdUzku0TXNAn"
      },
      "source": [
        "#Start by training LDA model\n",
        "lda_model =  gensim.models.LdaModel(bow_doc,  num_topics = 10,  id2word = Mydictionary)\n",
        "lda_model.save('lda_model.model')"
      ],
      "execution_count": null,
      "outputs": []
    },
    {
      "cell_type": "markdown",
      "metadata": {
        "id": "4lxJfTpXXTEQ"
      },
      "source": [
        "Print probable topics and their probability distribution for certain documents"
      ]
    },
    {
      "cell_type": "code",
      "metadata": {
        "id": "u-LJaEFgXTqg"
      },
      "source": [
        "lda_model.print_topics(10, num_words=10)[:10]"
      ],
      "execution_count": null,
      "outputs": []
    }
  ]
}